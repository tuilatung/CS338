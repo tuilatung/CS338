{
 "cells": [
  {
   "cell_type": "code",
   "execution_count": 1,
   "id": "9f557ce0",
   "metadata": {},
   "outputs": [
    {
     "name": "stdout",
     "output_type": "stream",
     "text": [
      "Extracting:  ./faces/0.png\n",
      "Extracting:  ./faces/1.png\n",
      "Extracting:  ./faces/2.png\n"
     ]
    }
   ],
   "source": [
    "from keras.preprocessing import image\n",
    "from keras.applications.vgg16 import VGG16, preprocess_input\n",
    "from keras.models import  Model\n",
    "from scipy.spatial import distance\n",
    "from PIL import Image\n",
    "from skimage import feature\n",
    "import pickle\n",
    "import numpy as np\n",
    "import math\n",
    "import os\n",
    "import matplotlib.pyplot as plt\n",
    "import matplotlib\n",
    "import cv2 as cv\n",
    "\n",
    "# Model Defining\n",
    "def get_extract_model():\n",
    "    vgg16_model = VGG16(weights=\"imagenet\")\n",
    "    extract_model = Model(inputs=vgg16_model.inputs, outputs = vgg16_model.get_layer(\"fc1\").output)\n",
    "    return extract_model\n",
    "\n",
    "# Image Preprocessing, image to tensor\n",
    "def image_preprocess(img):\n",
    "    img = img.resize((224,224)) # VGG16 constraint\n",
    "    img = img.convert(\"RGB\")\n",
    "    x = image.img_to_array(img)\n",
    "    x = np.expand_dims(x, axis=0)\n",
    "    x = preprocess_input(x)\n",
    "    return x\n",
    "\n",
    "def extract_vector(model, image_path):\n",
    "    print(\"Extracting: \", image_path)\n",
    "    img = Image.open(image_path)\n",
    "    img_tensor = image_preprocess(img)\n",
    "\n",
    "    # Features extraction\n",
    "    vector = model.predict(img_tensor)[0]\n",
    "    # Vector normalization\n",
    "    vector = vector / np.linalg.norm(vector)\n",
    "    return vector\n",
    "\n",
    "\n",
    "# Model initialization\n",
    "model = get_extract_model()\n",
    "\n",
    "data_path = './faces/'\n",
    "\n",
    "vectors, paths = [], []\n",
    "\n",
    "for image_path in sorted(os.listdir('faces')):\n",
    "    # Full path of images\n",
    "    image_path_full = os.path.join(data_path, image_path)\n",
    "    # Image's feature extraction\n",
    "    image_vector = extract_vector(model,image_path_full)\n",
    "    # Store features and path to list\n",
    "    vectors.append(image_vector)\n",
    "    paths.append(image_path_full)\n",
    "\n",
    "# Save feature's file\n",
    "vector_file = \"vectors.pkl\"\n",
    "path_file = \"paths.pkl\"\n",
    "\n",
    "pickle.dump(vectors, open(vector_file, \"wb\"))\n",
    "pickle.dump(paths, open(path_file, \"wb\"))"
   ]
  },
  {
   "cell_type": "code",
   "execution_count": 2,
   "id": "9dd0c285",
   "metadata": {},
   "outputs": [],
   "source": [
    "vectors = []"
   ]
  },
  {
   "cell_type": "code",
   "execution_count": 3,
   "id": "0249e9e5",
   "metadata": {},
   "outputs": [
    {
     "name": "stdout",
     "output_type": "stream",
     "text": [
      "Extracting:  ./faces/0.png\n",
      "[0.         0.02418906 0.02008117 ... 0.         0.         0.02846619]\n"
     ]
    }
   ],
   "source": [
    "img_query = './faces/0.png'\n",
    "Image.open(img_query)\n",
    "# Query image features extraction\n",
    "search_vector = extract_vector(model, img_query)\n",
    "print(search_vector)\n",
    "vectors.append(search_vector)"
   ]
  },
  {
   "cell_type": "code",
   "execution_count": 4,
   "id": "d6e47701",
   "metadata": {},
   "outputs": [
    {
     "name": "stdout",
     "output_type": "stream",
     "text": [
      "Extracting:  ./faces/1.png\n",
      "[0.         0.04333144 0.         ... 0.         0.         0.01741211]\n"
     ]
    }
   ],
   "source": [
    "img_query = './faces/1.png'\n",
    "Image.open(img_query)\n",
    "# Query image features extraction\n",
    "search_vector = extract_vector(model, img_query)\n",
    "print(search_vector)\n",
    "vectors.append(search_vector)"
   ]
  },
  {
   "cell_type": "code",
   "execution_count": 5,
   "id": "87fe599c",
   "metadata": {},
   "outputs": [
    {
     "name": "stdout",
     "output_type": "stream",
     "text": [
      "Extracting:  ./faces/2.png\n",
      "[0.         0.0495202  0.         ... 0.         0.         0.02986641]\n"
     ]
    }
   ],
   "source": [
    "img_query = './faces/2.png'\n",
    "Image.open(img_query)\n",
    "# Query image features extraction\n",
    "search_vector = extract_vector(model, img_query)\n",
    "print(search_vector)\n",
    "vectors.append(search_vector)"
   ]
  },
  {
   "cell_type": "code",
   "execution_count": 6,
   "id": "aa605a8c",
   "metadata": {
    "scrolled": true
   },
   "outputs": [
    {
     "name": "stdout",
     "output_type": "stream",
     "text": [
      "3\n"
     ]
    }
   ],
   "source": [
    "print(len(vectors))"
   ]
  },
  {
   "cell_type": "code",
   "execution_count": 9,
   "id": "f9970a45",
   "metadata": {},
   "outputs": [
    {
     "data": {
      "text/plain": [
       "1"
      ]
     },
     "execution_count": 9,
     "metadata": {},
     "output_type": "execute_result"
    }
   ],
   "source": [
    "result = 1 - distance.cosine(vectors[0], vectors[0])\n",
    "result"
   ]
  },
  {
   "cell_type": "code",
   "execution_count": null,
   "id": "51013ddc",
   "metadata": {},
   "outputs": [],
   "source": []
  }
 ],
 "metadata": {
  "kernelspec": {
   "display_name": "Python 3 (ipykernel)",
   "language": "python",
   "name": "python3"
  },
  "language_info": {
   "codemirror_mode": {
    "name": "ipython",
    "version": 3
   },
   "file_extension": ".py",
   "mimetype": "text/x-python",
   "name": "python",
   "nbconvert_exporter": "python",
   "pygments_lexer": "ipython3",
   "version": "3.9.7"
  }
 },
 "nbformat": 4,
 "nbformat_minor": 5
}
